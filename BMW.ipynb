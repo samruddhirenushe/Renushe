{
 "cells": [
  {
   "cell_type": "code",
   "execution_count": 1,
   "id": "ba72bad7-fc2e-4fc6-a932-a07463f167ec",
   "metadata": {},
   "outputs": [],
   "source": [
    "# importing libraries\n",
    "import numpy as np\n",
    "import pandas as pd"
   ]
  },
  {
   "cell_type": "code",
   "execution_count": 2,
   "id": "b3835d93-b403-4b87-954f-2872b812a0f3",
   "metadata": {},
   "outputs": [
    {
     "ename": "FileNotFoundError",
     "evalue": "[Errno 2] No such file or directory: 'C:\\\\Users\\\\HP\\\\Documents\\\\anuradha\\\\pandas\\\\dataset\\\\BMW_Car_Task\\\\bmw_car_data.csv'",
     "output_type": "error",
     "traceback": [
      "\u001b[1;31m---------------------------------------------------------------------------\u001b[0m",
      "\u001b[1;31mFileNotFoundError\u001b[0m                         Traceback (most recent call last)",
      "Cell \u001b[1;32mIn[2], line 2\u001b[0m\n\u001b[0;32m      1\u001b[0m \u001b[38;5;66;03m# load the dataset and print 10 rows\u001b[39;00m\n\u001b[1;32m----> 2\u001b[0m df \u001b[38;5;241m=\u001b[39m pd\u001b[38;5;241m.\u001b[39mread_csv(\u001b[38;5;124m'\u001b[39m\u001b[38;5;124mC:\u001b[39m\u001b[38;5;130;01m\\\\\u001b[39;00m\u001b[38;5;124mUsers\u001b[39m\u001b[38;5;130;01m\\\\\u001b[39;00m\u001b[38;5;124mHP\u001b[39m\u001b[38;5;130;01m\\\\\u001b[39;00m\u001b[38;5;124mDocuments\u001b[39m\u001b[38;5;130;01m\\\\\u001b[39;00m\u001b[38;5;124manuradha\u001b[39m\u001b[38;5;130;01m\\\\\u001b[39;00m\u001b[38;5;124mpandas\u001b[39m\u001b[38;5;130;01m\\\\\u001b[39;00m\u001b[38;5;124mdataset\u001b[39m\u001b[38;5;130;01m\\\\\u001b[39;00m\u001b[38;5;124mBMW_Car_Task\u001b[39m\u001b[38;5;130;01m\\\\\u001b[39;00m\u001b[38;5;124mbmw_car_data.csv\u001b[39m\u001b[38;5;124m'\u001b[39m)\n\u001b[0;32m      3\u001b[0m df\u001b[38;5;241m.\u001b[39mhead(\u001b[38;5;241m10\u001b[39m)\n",
      "File \u001b[1;32m~\\anaconda3\\Lib\\site-packages\\pandas\\io\\parsers\\readers.py:1026\u001b[0m, in \u001b[0;36mread_csv\u001b[1;34m(filepath_or_buffer, sep, delimiter, header, names, index_col, usecols, dtype, engine, converters, true_values, false_values, skipinitialspace, skiprows, skipfooter, nrows, na_values, keep_default_na, na_filter, verbose, skip_blank_lines, parse_dates, infer_datetime_format, keep_date_col, date_parser, date_format, dayfirst, cache_dates, iterator, chunksize, compression, thousands, decimal, lineterminator, quotechar, quoting, doublequote, escapechar, comment, encoding, encoding_errors, dialect, on_bad_lines, delim_whitespace, low_memory, memory_map, float_precision, storage_options, dtype_backend)\u001b[0m\n\u001b[0;32m   1013\u001b[0m kwds_defaults \u001b[38;5;241m=\u001b[39m _refine_defaults_read(\n\u001b[0;32m   1014\u001b[0m     dialect,\n\u001b[0;32m   1015\u001b[0m     delimiter,\n\u001b[1;32m   (...)\u001b[0m\n\u001b[0;32m   1022\u001b[0m     dtype_backend\u001b[38;5;241m=\u001b[39mdtype_backend,\n\u001b[0;32m   1023\u001b[0m )\n\u001b[0;32m   1024\u001b[0m kwds\u001b[38;5;241m.\u001b[39mupdate(kwds_defaults)\n\u001b[1;32m-> 1026\u001b[0m \u001b[38;5;28;01mreturn\u001b[39;00m _read(filepath_or_buffer, kwds)\n",
      "File \u001b[1;32m~\\anaconda3\\Lib\\site-packages\\pandas\\io\\parsers\\readers.py:620\u001b[0m, in \u001b[0;36m_read\u001b[1;34m(filepath_or_buffer, kwds)\u001b[0m\n\u001b[0;32m    617\u001b[0m _validate_names(kwds\u001b[38;5;241m.\u001b[39mget(\u001b[38;5;124m\"\u001b[39m\u001b[38;5;124mnames\u001b[39m\u001b[38;5;124m\"\u001b[39m, \u001b[38;5;28;01mNone\u001b[39;00m))\n\u001b[0;32m    619\u001b[0m \u001b[38;5;66;03m# Create the parser.\u001b[39;00m\n\u001b[1;32m--> 620\u001b[0m parser \u001b[38;5;241m=\u001b[39m TextFileReader(filepath_or_buffer, \u001b[38;5;241m*\u001b[39m\u001b[38;5;241m*\u001b[39mkwds)\n\u001b[0;32m    622\u001b[0m \u001b[38;5;28;01mif\u001b[39;00m chunksize \u001b[38;5;129;01mor\u001b[39;00m iterator:\n\u001b[0;32m    623\u001b[0m     \u001b[38;5;28;01mreturn\u001b[39;00m parser\n",
      "File \u001b[1;32m~\\anaconda3\\Lib\\site-packages\\pandas\\io\\parsers\\readers.py:1620\u001b[0m, in \u001b[0;36mTextFileReader.__init__\u001b[1;34m(self, f, engine, **kwds)\u001b[0m\n\u001b[0;32m   1617\u001b[0m     \u001b[38;5;28mself\u001b[39m\u001b[38;5;241m.\u001b[39moptions[\u001b[38;5;124m\"\u001b[39m\u001b[38;5;124mhas_index_names\u001b[39m\u001b[38;5;124m\"\u001b[39m] \u001b[38;5;241m=\u001b[39m kwds[\u001b[38;5;124m\"\u001b[39m\u001b[38;5;124mhas_index_names\u001b[39m\u001b[38;5;124m\"\u001b[39m]\n\u001b[0;32m   1619\u001b[0m \u001b[38;5;28mself\u001b[39m\u001b[38;5;241m.\u001b[39mhandles: IOHandles \u001b[38;5;241m|\u001b[39m \u001b[38;5;28;01mNone\u001b[39;00m \u001b[38;5;241m=\u001b[39m \u001b[38;5;28;01mNone\u001b[39;00m\n\u001b[1;32m-> 1620\u001b[0m \u001b[38;5;28mself\u001b[39m\u001b[38;5;241m.\u001b[39m_engine \u001b[38;5;241m=\u001b[39m \u001b[38;5;28mself\u001b[39m\u001b[38;5;241m.\u001b[39m_make_engine(f, \u001b[38;5;28mself\u001b[39m\u001b[38;5;241m.\u001b[39mengine)\n",
      "File \u001b[1;32m~\\anaconda3\\Lib\\site-packages\\pandas\\io\\parsers\\readers.py:1880\u001b[0m, in \u001b[0;36mTextFileReader._make_engine\u001b[1;34m(self, f, engine)\u001b[0m\n\u001b[0;32m   1878\u001b[0m     \u001b[38;5;28;01mif\u001b[39;00m \u001b[38;5;124m\"\u001b[39m\u001b[38;5;124mb\u001b[39m\u001b[38;5;124m\"\u001b[39m \u001b[38;5;129;01mnot\u001b[39;00m \u001b[38;5;129;01min\u001b[39;00m mode:\n\u001b[0;32m   1879\u001b[0m         mode \u001b[38;5;241m+\u001b[39m\u001b[38;5;241m=\u001b[39m \u001b[38;5;124m\"\u001b[39m\u001b[38;5;124mb\u001b[39m\u001b[38;5;124m\"\u001b[39m\n\u001b[1;32m-> 1880\u001b[0m \u001b[38;5;28mself\u001b[39m\u001b[38;5;241m.\u001b[39mhandles \u001b[38;5;241m=\u001b[39m get_handle(\n\u001b[0;32m   1881\u001b[0m     f,\n\u001b[0;32m   1882\u001b[0m     mode,\n\u001b[0;32m   1883\u001b[0m     encoding\u001b[38;5;241m=\u001b[39m\u001b[38;5;28mself\u001b[39m\u001b[38;5;241m.\u001b[39moptions\u001b[38;5;241m.\u001b[39mget(\u001b[38;5;124m\"\u001b[39m\u001b[38;5;124mencoding\u001b[39m\u001b[38;5;124m\"\u001b[39m, \u001b[38;5;28;01mNone\u001b[39;00m),\n\u001b[0;32m   1884\u001b[0m     compression\u001b[38;5;241m=\u001b[39m\u001b[38;5;28mself\u001b[39m\u001b[38;5;241m.\u001b[39moptions\u001b[38;5;241m.\u001b[39mget(\u001b[38;5;124m\"\u001b[39m\u001b[38;5;124mcompression\u001b[39m\u001b[38;5;124m\"\u001b[39m, \u001b[38;5;28;01mNone\u001b[39;00m),\n\u001b[0;32m   1885\u001b[0m     memory_map\u001b[38;5;241m=\u001b[39m\u001b[38;5;28mself\u001b[39m\u001b[38;5;241m.\u001b[39moptions\u001b[38;5;241m.\u001b[39mget(\u001b[38;5;124m\"\u001b[39m\u001b[38;5;124mmemory_map\u001b[39m\u001b[38;5;124m\"\u001b[39m, \u001b[38;5;28;01mFalse\u001b[39;00m),\n\u001b[0;32m   1886\u001b[0m     is_text\u001b[38;5;241m=\u001b[39mis_text,\n\u001b[0;32m   1887\u001b[0m     errors\u001b[38;5;241m=\u001b[39m\u001b[38;5;28mself\u001b[39m\u001b[38;5;241m.\u001b[39moptions\u001b[38;5;241m.\u001b[39mget(\u001b[38;5;124m\"\u001b[39m\u001b[38;5;124mencoding_errors\u001b[39m\u001b[38;5;124m\"\u001b[39m, \u001b[38;5;124m\"\u001b[39m\u001b[38;5;124mstrict\u001b[39m\u001b[38;5;124m\"\u001b[39m),\n\u001b[0;32m   1888\u001b[0m     storage_options\u001b[38;5;241m=\u001b[39m\u001b[38;5;28mself\u001b[39m\u001b[38;5;241m.\u001b[39moptions\u001b[38;5;241m.\u001b[39mget(\u001b[38;5;124m\"\u001b[39m\u001b[38;5;124mstorage_options\u001b[39m\u001b[38;5;124m\"\u001b[39m, \u001b[38;5;28;01mNone\u001b[39;00m),\n\u001b[0;32m   1889\u001b[0m )\n\u001b[0;32m   1890\u001b[0m \u001b[38;5;28;01massert\u001b[39;00m \u001b[38;5;28mself\u001b[39m\u001b[38;5;241m.\u001b[39mhandles \u001b[38;5;129;01mis\u001b[39;00m \u001b[38;5;129;01mnot\u001b[39;00m \u001b[38;5;28;01mNone\u001b[39;00m\n\u001b[0;32m   1891\u001b[0m f \u001b[38;5;241m=\u001b[39m \u001b[38;5;28mself\u001b[39m\u001b[38;5;241m.\u001b[39mhandles\u001b[38;5;241m.\u001b[39mhandle\n",
      "File \u001b[1;32m~\\anaconda3\\Lib\\site-packages\\pandas\\io\\common.py:873\u001b[0m, in \u001b[0;36mget_handle\u001b[1;34m(path_or_buf, mode, encoding, compression, memory_map, is_text, errors, storage_options)\u001b[0m\n\u001b[0;32m    868\u001b[0m \u001b[38;5;28;01melif\u001b[39;00m \u001b[38;5;28misinstance\u001b[39m(handle, \u001b[38;5;28mstr\u001b[39m):\n\u001b[0;32m    869\u001b[0m     \u001b[38;5;66;03m# Check whether the filename is to be opened in binary mode.\u001b[39;00m\n\u001b[0;32m    870\u001b[0m     \u001b[38;5;66;03m# Binary mode does not support 'encoding' and 'newline'.\u001b[39;00m\n\u001b[0;32m    871\u001b[0m     \u001b[38;5;28;01mif\u001b[39;00m ioargs\u001b[38;5;241m.\u001b[39mencoding \u001b[38;5;129;01mand\u001b[39;00m \u001b[38;5;124m\"\u001b[39m\u001b[38;5;124mb\u001b[39m\u001b[38;5;124m\"\u001b[39m \u001b[38;5;129;01mnot\u001b[39;00m \u001b[38;5;129;01min\u001b[39;00m ioargs\u001b[38;5;241m.\u001b[39mmode:\n\u001b[0;32m    872\u001b[0m         \u001b[38;5;66;03m# Encoding\u001b[39;00m\n\u001b[1;32m--> 873\u001b[0m         handle \u001b[38;5;241m=\u001b[39m \u001b[38;5;28mopen\u001b[39m(\n\u001b[0;32m    874\u001b[0m             handle,\n\u001b[0;32m    875\u001b[0m             ioargs\u001b[38;5;241m.\u001b[39mmode,\n\u001b[0;32m    876\u001b[0m             encoding\u001b[38;5;241m=\u001b[39mioargs\u001b[38;5;241m.\u001b[39mencoding,\n\u001b[0;32m    877\u001b[0m             errors\u001b[38;5;241m=\u001b[39merrors,\n\u001b[0;32m    878\u001b[0m             newline\u001b[38;5;241m=\u001b[39m\u001b[38;5;124m\"\u001b[39m\u001b[38;5;124m\"\u001b[39m,\n\u001b[0;32m    879\u001b[0m         )\n\u001b[0;32m    880\u001b[0m     \u001b[38;5;28;01melse\u001b[39;00m:\n\u001b[0;32m    881\u001b[0m         \u001b[38;5;66;03m# Binary mode\u001b[39;00m\n\u001b[0;32m    882\u001b[0m         handle \u001b[38;5;241m=\u001b[39m \u001b[38;5;28mopen\u001b[39m(handle, ioargs\u001b[38;5;241m.\u001b[39mmode)\n",
      "\u001b[1;31mFileNotFoundError\u001b[0m: [Errno 2] No such file or directory: 'C:\\\\Users\\\\HP\\\\Documents\\\\anuradha\\\\pandas\\\\dataset\\\\BMW_Car_Task\\\\bmw_car_data.csv'"
     ]
    }
   ],
   "source": [
    "# load the dataset and print 10 rows\n",
    "df = pd.read_csv('C:\\\\Users\\\\HP\\\\Documents\\\\anuradha\\\\pandas\\\\dataset\\\\BMW_Car_Task\\\\bmw_car_data.csv')\n",
    "df.head(10)"
   ]
  },
  {
   "cell_type": "code",
   "execution_count": null,
   "id": "86fa7b3b-c062-4b63-a860-8e551f839a82",
   "metadata": {},
   "outputs": [],
   "source": [
    "#display shape\n",
    "df.shape"
   ]
  },
  {
   "cell_type": "code",
   "execution_count": null,
   "id": "618bc85d-41f1-4c58-a972-6c8cf6aef9cf",
   "metadata": {},
   "outputs": [],
   "source": [
    "#display columns\n",
    "df.columns"
   ]
  },
  {
   "cell_type": "code",
   "execution_count": null,
   "id": "2976313c-566b-4051-850e-588a4be3b4b7",
   "metadata": {},
   "outputs": [],
   "source": [
    "#display data types\n",
    "df.dtypes"
   ]
  },
  {
   "cell_type": "code",
   "execution_count": null,
   "id": "dc069be4-fd39-4dee-bffd-e16c530a276f",
   "metadata": {},
   "outputs": [],
   "source": [
    "# Filter cars manufactured after 2020.\n",
    "filtered_df = df[df['Year']>2020]\n",
    "df"
   ]
  },
  {
   "cell_type": "code",
   "execution_count": null,
   "id": "7eb1946c-4ec0-4664-a206-bd2d72c8e568",
   "metadata": {},
   "outputs": [],
   "source": [
    "# Sort dataset by Price_Ex_Showroom descending.\n",
    "df.sort_values(by=['Price_Ex_Showroom'], ascending = False).head(3)"
   ]
  },
  {
   "cell_type": "code",
   "execution_count": null,
   "id": "9f501385-f616-44b4-8f19-d0f42d609f28",
   "metadata": {},
   "outputs": [],
   "source": [
    "# list unique car models \n",
    "df['Model_Name'].nunique()\n"
   ]
  },
  {
   "cell_type": "code",
   "execution_count": null,
   "id": "346c34a9-4f72-454b-b553-dd65f5fb5d2d",
   "metadata": {},
   "outputs": [],
   "source": [
    "# list unique values of fuel type\n",
    "df['Fuel_Type'].nunique()"
   ]
  },
  {
   "cell_type": "code",
   "execution_count": null,
   "id": "ec7cf02a-8338-42d3-aaf4-f4207cd3a315",
   "metadata": {},
   "outputs": [],
   "source": [
    "# count how many cars per fuel type\n",
    "df['Fuel_Type'].value_counts()"
   ]
  },
  {
   "cell_type": "code",
   "execution_count": null,
   "id": "c07f75b1-19ae-4ff7-ae33-21bbf7c460f6",
   "metadata": {},
   "outputs": [],
   "source": [
    "# filter only automatic transmission BMW'S only\n",
    "con=df['Transmission']=='Automatic Transmission'\n",
    "df[con].head()"
   ]
  },
  {
   "cell_type": "code",
   "execution_count": null,
   "id": "7e950a2b-42a7-4f33-877a-2f0cd9fc77a1",
   "metadata": {},
   "outputs": [],
   "source": [
    "# replace missing mileage values with mean\n",
    "df['Mileage_kmpl']=df['Mileage_kmpl'].fillna(df['Mileage_kmpl'].mean())\n",
    "df['Mileage_kmpl']"
   ]
  },
  {
   "cell_type": "code",
   "execution_count": null,
   "id": "12d8f8c7-0b14-463e-828f-d789c4e93391",
   "metadata": {},
   "outputs": [],
   "source": [
    "# drop rows where Engine_CC is null\n",
    "df=df.dropna(subset=['Engine_CC'])"
   ]
  },
  {
   "cell_type": "code",
   "execution_count": null,
   "id": "3e8f742d-f4b8-4097-94c3-6f75a5040d52",
   "metadata": {},
   "outputs": [],
   "source": [
    "df['Engine_CC'].isnull().sum()"
   ]
  },
  {
   "cell_type": "code",
   "execution_count": null,
   "id": "7656cbbe-9ae4-4261-a739-bcef9a160297",
   "metadata": {},
   "outputs": [],
   "source": [
    "# group cars by model_name and calculate average price\n",
    "df.groupby('Model_Name') ['Price_Ex_Showroom'].mean()"
   ]
  },
  {
   "cell_type": "code",
   "execution_count": null,
   "id": "081da3b7-e79a-44d9-8894-ea101fd380ef",
   "metadata": {},
   "outputs": [],
   "source": [
    "df['new_col']=df['Car_Age']=2025\n",
    "df"
   ]
  },
  {
   "cell_type": "code",
   "execution_count": null,
   "id": "d5e7a40e-ce99-49d4-9bc4-921d8d1366bc",
   "metadata": {},
   "outputs": [],
   "source": [
    "# Filter cars priced above 60 lakh\n",
    "con=df['Price_Ex_Showroom']=='6000000'\n",
    "df[con].head(10)"
   ]
  },
  {
   "cell_type": "code",
   "execution_count": null,
   "id": "b3a01376-ade2-48c6-bf46-d006e4b7d1d1",
   "metadata": {},
   "outputs": [],
   "source": [
    "# top most common cities\n",
    "df['Location'].value_counts().head(1)"
   ]
  },
  {
   "cell_type": "code",
   "execution_count": null,
   "id": "e62d756c-49c7-4341-9cf3-6ae1028c803e",
   "metadata": {},
   "outputs": [],
   "source": [
    "# Apply .loc[] to update fuel type of electric variants\n",
    "df.loc[df['Variant'].str.contains('electric',case=False),'Fuel_Type']='Electric'\n",
    "df\n"
   ]
  },
  {
   "cell_type": "code",
   "execution_count": null,
   "id": "902b0725-e0b9-4452-9434-cc929d5a078e",
   "metadata": {},
   "outputs": [],
   "source": [
    "# Convert Price_Ex_Showroom from lakh to rupee value\n",
    "df['Price_Ex_Showroom']=df['Price_Ex_Showroom'].astype(str).str.replace('lakh','').astype(float)*100000\n",
    "df"
   ]
  },
  {
   "cell_type": "code",
   "execution_count": null,
   "id": "8081b216-e067-4f03-b347-32fd1f07c135",
   "metadata": {},
   "outputs": [],
   "source": [
    "# find how many cars are older than 10 years\n",
    "df[df['Year']<2015].shape[0]"
   ]
  },
  {
   "cell_type": "code",
   "execution_count": null,
   "id": "2db6ee46-dfdd-48a3-960d-87cad78bd5a3",
   "metadata": {},
   "outputs": [],
   "source": [
    "# Count of cars by Owner_Type and Transmission \n",
    "df.groupby(['Owner_Type','Transmission']).size()"
   ]
  },
  {
   "cell_type": "code",
   "execution_count": null,
   "id": "31ec37ca-3772-4753-98ce-ee38652364cd",
   "metadata": {},
   "outputs": [],
   "source": [
    "df['Power_BHP']=df['Power_BHP'].astype(str).str.replace('bhp','').astype(float)"
   ]
  },
  {
   "cell_type": "code",
   "execution_count": null,
   "id": "e2515af8-d27f-4164-938f-787f1ace5e9a",
   "metadata": {},
   "outputs": [],
   "source": [
    "df['Power_BHP'] = pd.to_numeric(df['Power_BHP'], errors='coerce')"
   ]
  },
  {
   "cell_type": "code",
   "execution_count": null,
   "id": "8a100de8-ac61-4e2f-8286-5bee7d77cf3c",
   "metadata": {},
   "outputs": [],
   "source": [
    "# find maximum BHP in diesel cars\n",
    "df=pd.read_csv('C:\\\\Users\\\\HP\\\\Documents\\\\anuradha\\\\pandas\\\\dataset\\\\BMW_Car_Task\\\\bmw_car_data.csv')\n",
    "print(df[df['Fuel_Type'] == 'Diesel'] \n",
    "['Power_BHP'].max())"
   ]
  },
  {
   "cell_type": "code",
   "execution_count": null,
   "id": "e1e1744e-f4c6-405a-9702-8e5c8b899036",
   "metadata": {},
   "outputs": [],
   "source": [
    "# find car with maximum mileage\n",
    "maximum=df.Mileage_kmpl.max()\n",
    "maximum"
   ]
  },
  {
   "cell_type": "code",
   "execution_count": null,
   "id": "cd2cefe5-3a39-4158-83e1-5b5337c8cfca",
   "metadata": {},
   "outputs": [],
   "source": [
    " # minimum mileage\n",
    "minimum=df.Mileage_kmpl.min()\n",
    "minimum"
   ]
  },
  {
   "cell_type": "code",
   "execution_count": null,
   "id": "1921de28-ca30-43e6-91f9-f20622ba543f",
   "metadata": {},
   "outputs": [],
   "source": [
    "# Remove duplicate rows if any\n",
    "df.drop_duplicates(inplace=True)\n",
    "df"
   ]
  },
  {
   "cell_type": "code",
   "execution_count": null,
   "id": "50c809aa-5ac7-4703-bbcd-96648e295dee",
   "metadata": {},
   "outputs": [],
   "source": [
    "# Apply filter: Diesel+Automation+Above 200 BHP\n",
    "filter_df=df[(['Fuel_Type']== 'Diesel') & (df['Transmission']=='Automatic')& (df['Power_BHP']>200)]\n",
    "filter_df"
   ]
  },
  {
   "cell_type": "code",
   "execution_count": null,
   "id": "fa920b1c-0c5a-41a3-b693-ab87dd83df8c",
   "metadata": {},
   "outputs": [],
   "source": [
    "# Export filtered data to new Csv\n",
    "filter_df.to_csv('bmw_car_data_filter.csv',index=False)"
   ]
  },
  {
   "cell_type": "code",
   "execution_count": null,
   "id": "c3c603ac-3777-4411-9206-25e807e76239",
   "metadata": {},
   "outputs": [],
   "source": [
    "df"
   ]
  },
  {
   "cell_type": "code",
   "execution_count": null,
   "id": "d2c9918a-f58e-42ab-bebc-7bd256d6a4ad",
   "metadata": {},
   "outputs": [],
   "source": []
  }
 ],
 "metadata": {
  "kernelspec": {
   "display_name": "Python [conda env:base] *",
   "language": "python",
   "name": "conda-base-py"
  },
  "language_info": {
   "codemirror_mode": {
    "name": "ipython",
    "version": 3
   },
   "file_extension": ".py",
   "mimetype": "text/x-python",
   "name": "python",
   "nbconvert_exporter": "python",
   "pygments_lexer": "ipython3",
   "version": "3.12.7"
  }
 },
 "nbformat": 4,
 "nbformat_minor": 5
}
