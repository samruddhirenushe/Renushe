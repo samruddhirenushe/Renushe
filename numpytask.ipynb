{
 "cells": [
  {
   "cell_type": "markdown",
   "id": "90faf6c6-0dd1-49aa-9251-fa8f2d9c1a6a",
   "metadata": {},
   "source": [
    "1\tCreate a 1D NumPy array of numbers from 0 to 9.\t"
   ]
  },
  {
   "cell_type": "code",
   "execution_count": 1,
   "id": "df509e6f-0d4a-4e7d-aafc-f104034be4a2",
   "metadata": {},
   "outputs": [
    {
     "data": {
      "text/plain": [
       "[0, 1, 2, 3, 4, 6, 7, 8, 9]"
      ]
     },
     "execution_count": 1,
     "metadata": {},
     "output_type": "execute_result"
    }
   ],
   "source": [
    "import numpy as np\n",
    "lst=[0,1,2,3,4,6,7,8,9]\n",
    "al=np.array(lst)\n",
    "lst"
   ]
  },
  {
   "cell_type": "code",
   "execution_count": 2,
   "id": "5bfecc8c-e75a-4d4a-a4ea-e1df900b1f6f",
   "metadata": {},
   "outputs": [
    {
     "name": "stdout",
     "output_type": "stream",
     "text": [
      "[0 1 2 3 4 6 7 8 9]\n"
     ]
    }
   ],
   "source": [
    "print(al)"
   ]
  },
  {
   "cell_type": "markdown",
   "id": "b8ae9044-5d7c-4dca-b90c-7939d5800d7c",
   "metadata": {},
   "source": [
    "2\tCreate a 2D array of shape (3, 3) with all elements as 1.\t"
   ]
  },
  {
   "cell_type": "code",
   "execution_count": 3,
   "id": "ac59ad30-4286-45c7-bc2c-889d9cfe25ee",
   "metadata": {},
   "outputs": [
    {
     "data": {
      "text/plain": [
       "array([[1, 1, 1],\n",
       "       [1, 1, 1],\n",
       "       [1, 1, 1]], dtype=int64)"
      ]
     },
     "execution_count": 3,
     "metadata": {},
     "output_type": "execute_result"
    }
   ],
   "source": [
    "arr1=np.ones([3,3],dtype=np.int64,order='C')\n",
    "arr1"
   ]
  },
  {
   "cell_type": "markdown",
   "id": "4da789c0-1c77-42c4-91ff-f1addea04f53",
   "metadata": {},
   "source": [
    "3\tGenerate a NumPy array of 15 random integers between 10 and 50.\t"
   ]
  },
  {
   "cell_type": "code",
   "execution_count": 4,
   "id": "61a39d7f-ca6a-490e-a1b1-9cb0a2f83c14",
   "metadata": {},
   "outputs": [
    {
     "data": {
      "text/plain": [
       "array([12, 34, 54, 21, 32, 43, 54, 61, 28, 45, 46, 30, 50, 10, 49])"
      ]
     },
     "execution_count": 4,
     "metadata": {},
     "output_type": "execute_result"
    }
   ],
   "source": [
    "arr=np.array([12,34,54,21,32,43,54,61,28,45,46,30,50,10,49])\n",
    "arr"
   ]
  },
  {
   "cell_type": "markdown",
   "id": "7b35d75e-976b-4eec-80c7-7eddabb5ac9e",
   "metadata": {},
   "source": [
    "4\tCreate an array of 5 evenly spaced numbers between 0 and 1 (inclusive).\t"
   ]
  },
  {
   "cell_type": "code",
   "execution_count": 39,
   "id": "df4bcf03-bdcc-4f6f-93f4-383948c0769b",
   "metadata": {},
   "outputs": [
    {
     "name": "stdout",
     "output_type": "stream",
     "text": [
      "[0.   0.25 0.5  0.75 1.  ]\n"
     ]
    }
   ],
   "source": [
    "import numpy as np\n",
    "ar=np.linspace(0,1,5)\n",
    "print(ar)"
   ]
  },
  {
   "cell_type": "markdown",
   "id": "3cb46cd8-9de4-455a-8f29-931807441795",
   "metadata": {},
   "source": [
    "5\tCreate a 4x4 identity matrix using NumPy.\t"
   ]
  },
  {
   "cell_type": "code",
   "execution_count": 6,
   "id": "ad793c83-2f2e-4fee-9c26-33e3379feb45",
   "metadata": {},
   "outputs": [
    {
     "data": {
      "text/plain": [
       "array([[1., 0., 0., 0.],\n",
       "       [0., 1., 0., 0.],\n",
       "       [0., 0., 1., 0.],\n",
       "       [0., 0., 0., 1.]])"
      ]
     },
     "execution_count": 6,
     "metadata": {},
     "output_type": "execute_result"
    }
   ],
   "source": [
    "a1=np.eye(4)\n",
    "a1"
   ]
  },
  {
   "cell_type": "markdown",
   "id": "6f8d811b-ba73-47f2-a34b-3c821eacb53f",
   "metadata": {},
   "source": [
    "6\tCreate an array from the list [10, 20, 30, 40] and change the data type to float.\t"
   ]
  },
  {
   "cell_type": "code",
   "execution_count": 7,
   "id": "a14f18ad-4632-4158-84ac-cd912b1b0c2a",
   "metadata": {},
   "outputs": [
    {
     "data": {
      "text/plain": [
       "array([10., 20., 30., 40.], dtype=float32)"
      ]
     },
     "execution_count": 7,
     "metadata": {},
     "output_type": "execute_result"
    }
   ],
   "source": [
    "l=[10,20,30,40]\n",
    "ar=np.array(l,dtype=np.float32)\n",
    "ar"
   ]
  },
  {
   "cell_type": "markdown",
   "id": "dba1d7de-3def-4488-8773-ab9fd97b895a",
   "metadata": {},
   "source": [
    "7\tCreate a 3x3 array with values from 1 to 9, then extract the second column.\t"
   ]
  },
  {
   "cell_type": "code",
   "execution_count": 8,
   "id": "b9016e03-01c8-444a-bbfd-138eb868c369",
   "metadata": {},
   "outputs": [
    {
     "data": {
      "text/plain": [
       "array([], shape=(0, 3), dtype=int32)"
      ]
     },
     "execution_count": 8,
     "metadata": {},
     "output_type": "execute_result"
    }
   ],
   "source": [
    "a1=np.array([1,2,3,4,5,6,7,8,9]).reshape(3,3)\n",
    "a1[3:3]"
   ]
  },
  {
   "cell_type": "markdown",
   "id": "573b4b0c-e865-4e41-8517-0ff76013b2bb",
   "metadata": {},
   "source": [
    "8\tCreate a 1D array with 10 elements and reshape it into a 2x5 matrix.\t"
   ]
  },
  {
   "cell_type": "code",
   "execution_count": 9,
   "id": "e1283178-903f-48ec-b15e-460622304da2",
   "metadata": {},
   "outputs": [
    {
     "data": {
      "text/plain": [
       "array([[ 1,  2,  3,  4,  5],\n",
       "       [ 6,  7,  8,  9, 10]])"
      ]
     },
     "execution_count": 9,
     "metadata": {},
     "output_type": "execute_result"
    }
   ],
   "source": [
    "a1=np.array([1,2,3,4,5,6,7,8,9,10]).reshape(2,5)\n",
    "a1"
   ]
  },
  {
   "cell_type": "markdown",
   "id": "0a692a93-00cf-416c-b1ae-821ab8ef5725",
   "metadata": {},
   "source": [
    "9\tCreate two 2x2 matrices and perform matrix multiplication.\t"
   ]
  },
  {
   "cell_type": "code",
   "execution_count": 24,
   "id": "5ba9ae36-df34-4021-be2f-4de54f88c926",
   "metadata": {},
   "outputs": [
    {
     "data": {
      "text/plain": [
       "array([[1, 2],\n",
       "       [3, 4]])"
      ]
     },
     "execution_count": 24,
     "metadata": {},
     "output_type": "execute_result"
    }
   ],
   "source": [
    "ary=np.array([1,2,3,4]).reshape(2,2)\n",
    "ary"
   ]
  },
  {
   "cell_type": "code",
   "execution_count": 25,
   "id": "11ab960b-8ff6-4541-b4ce-0977fe5fd000",
   "metadata": {},
   "outputs": [
    {
     "data": {
      "text/plain": [
       "array([[ 5, 12],\n",
       "       [21, 32]])"
      ]
     },
     "execution_count": 25,
     "metadata": {},
     "output_type": "execute_result"
    }
   ],
   "source": [
    "ary1=np.array([5,6,7,8]).reshape(2,2)\n",
    "ary1\n",
    "np.multiply(ary,ary1)"
   ]
  },
  {
   "cell_type": "markdown",
   "id": "83909f94-2d09-456a-b435-070130726d26",
   "metadata": {},
   "source": [
    "10\tGiven the array arr = np.array([5, 12, 7, 18, 3]), replace all values greater than 10 with 100.\t"
   ]
  },
  {
   "cell_type": "code",
   "execution_count": 27,
   "id": "a0cc091e-84ca-4cbf-94fc-6c0f1c9d851d",
   "metadata": {},
   "outputs": [
    {
     "data": {
      "text/plain": [
       "array([  5, 100,   7, 100,   3])"
      ]
     },
     "execution_count": 27,
     "metadata": {},
     "output_type": "execute_result"
    }
   ],
   "source": [
    "import numpy as np\n",
    "arr=np.array([5,12,7,18,3])\n",
    "arr[arr>10]=100\n",
    "arr"
   ]
  },
  {
   "cell_type": "code",
   "execution_count": null,
   "id": "667e12a1-df12-42e5-861e-36e2a3b6c75d",
   "metadata": {},
   "outputs": [],
   "source": []
  }
 ],
 "metadata": {
  "kernelspec": {
   "display_name": "Python [conda env:base] *",
   "language": "python",
   "name": "conda-base-py"
  },
  "language_info": {
   "codemirror_mode": {
    "name": "ipython",
    "version": 3
   },
   "file_extension": ".py",
   "mimetype": "text/x-python",
   "name": "python",
   "nbconvert_exporter": "python",
   "pygments_lexer": "ipython3",
   "version": "3.12.7"
  }
 },
 "nbformat": 4,
 "nbformat_minor": 5
}
